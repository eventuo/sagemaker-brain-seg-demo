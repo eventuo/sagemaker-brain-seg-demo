{
 "cells": [
  {
   "cell_type": "markdown",
   "metadata": {},
   "source": [
    "# Brain MRI Segmentation\n",
    "***Predict Brain Tissue Segmentation Masks from Brain MRI Scans***\n",
    "\n",
    "## Contents\n",
    "\n",
    "1. [Background](#Background)\n",
    "1. [Exploratory Data Analyis & Pre-processing](#Exploratory-Data-Analysis-&-Pre-processing)\n",
    "1. [Train Models on Sagemaker](#Train-Models-on-SageMaker)\n",
    "1. [Inference Endpoints](#Inference-Endpoints)\n",
    "1. [Model Evaluation](#Model-Evaluation)\n",
    "1. [Extensions](#Extensions)\n",
    "\n",
    "## Background\n",
    "\n",
    "This notebook shows how to apply image segmentation algorithms to medical imaging use-cases in a simple, streamlined way using Amazon SageMaker. Specifically, we'll be using Apache MXNet to train a convolutional neural network for semantic segmentation on SageMaker using the \"Bring Your Own Script\" paradigm. Put simply, the goal of semantic segmentation is to make classifications on an image at the pixel-level, producing a classification \"mask.\" We will train two networks, U-Net and ENet. We'll show how to deploy these models to inference endpoints, both in the cloud on Amazon SageMaker and at the edge using AWS GreenGrass.\n",
    "\n",
    "### Use-case\n",
    "\n",
    "Medical imaging techniques allow medical professionals to see inside the human body, but more often than not the professional needs precise segmentation of the tissues within the image for analytical procedures and inferences. This is particular relevant in use-cases where volumetric and surface analysis are key to derive insights from the raw imaging, such as assessing the cardivascular health of a patient. Typically, this segmentation is done manually by medical professionals, and is very time consuming. Recently, convolutional neural networks have been shown to be highly performant at this task, and in this notebook we'll train two such networks to automatically segment brain tissue from MRI images.\n",
    "\n",
    "### CNN Architectures\n",
    "\n",
    "In this notebook, we apply two models to the task of brain tissue segmentation:\n",
    "* **U-Net**: Introduced in the paper [U-Net: Convolutional Networks for Biomedical Image Segmentation](https://arxiv.org/abs/1505.04597), this network was originally used for medical-imaging use-cases but has since proven to be reliable in generic segmentation domains. Due to it's architectural and conceptual simplicity, its often used as a baseline.\n",
    "* **ENet**: Introduced in the paper [ENet: A Deep Neural Network Architecture for Real-Time Semantic Segmentation](https://arxiv.org/abs/1606.02147), ENet is designed to be low-latency and to operate in environments with low compute capacity (e.g. edge devices). Compared to existing architectures, ENet optimizes for processing time over accuracy.\n",
    "\n",
    "### Dataset\n",
    "\n",
    "In this notebook, we'll be using Brain MRI data from the [Open Access Series of Imaging Studies (OASIS)](http://www.oasis-brains.org/). This project offers a wealth of neuroimaging datasets; we'll be looking at a small subset of cross-sectional brain MRIs.\n",
    "\n",
    "**Note:** You need to request access on the OASIS site to get the data. In this tutorial, I'll be using the <tt>disc1.tar.gz</tt> file from the [OASIS-1](http://www.oasis-brains.org/#data) data set.\n",
    "\n",
    "## Exploratory Data Analysis & Pre-processing\n",
    "\n",
    "In this section, we'll visualize the data and pre-process it for training a segmentation network. Once completed, we'll put the pre-processed data on S3 for SageMaker to use during model training.\n",
    "\n",
    "### Setup\n",
    "\n",
    "We'll start by importing the libraries necessary to perform the data visualization and pre-processing."
   ]
  },
  {
   "cell_type": "code",
   "execution_count": 311,
   "metadata": {
    "collapsed": true
   },
   "outputs": [],
   "source": [
    "import numpy as np\n",
    "from PIL import Image\n",
    "import boto3\n",
    "import os\n",
    "from glob import glob\n",
    "import imageio\n",
    "from sklearn.cross_validation import train_test_split\n",
    "import time\n",
    "import urllib\n",
    "import tarfile\n",
    "import shutil\n",
    "import json\n",
    "import matplotlib.pyplot as plt\n",
    "%matplotlib inline"
   ]
  },
  {
   "cell_type": "markdown",
   "metadata": {},
   "source": [
    "### Download & Extract\n",
    "Next, we're going to download the compressed data file locally and extract it to our data directory. I've put the <tt>disc1.tar.gx</tt> file in S3 and will download it from there.\n",
    "\n",
    "I've left the data directory up to you, because depending on your instance type you may or may not have the disk space to download and extract this data set. Some options:\n",
    "* Download data to the shared memory at <tt>/dev/shm</tt> if you have enough storage capacity there. Data saved here is not persistent, but we're only pre-processing and putting data on S3.\n",
    "* [Mount an Elastic File System to this instance.](https://aws.amazon.com/blogs/machine-learning/mount-an-efs-file-system-to-an-amazon-sagemaker-notebook-with-lifecycle-configurations/) This is useful if you want your data to persist in a file system accessible by your instance."
   ]
  },
  {
   "cell_type": "code",
   "execution_count": 239,
   "metadata": {
    "collapsed": true
   },
   "outputs": [],
   "source": [
    "data_bucket = '<YOUR-S3-BUCKET>'\n",
    "data_prefix = '<YOUR-S3-PREFIX>'\n",
    "data_dir = '<YOUR-DATA-DIR>'"
   ]
  },
  {
   "cell_type": "code",
   "execution_count": 400,
   "metadata": {
    "collapsed": true
   },
   "outputs": [],
   "source": [
    "def create_dir_if_not_exist(d):\n",
    "    if not os.path.exists(d):\n",
    "        os.mkdir(d)"
   ]
  },
  {
   "cell_type": "markdown",
   "metadata": {},
   "source": [
    "Now we can download and extract."
   ]
  },
  {
   "cell_type": "code",
   "execution_count": 250,
   "metadata": {
    "collapsed": true
   },
   "outputs": [],
   "source": [
    "create_dir_if_not_exist(os.path.join(data_dir, 'brain_mri'))\n",
    "boto3.client('s3').download_file(\n",
    "    Bucket=data_bucket,\n",
    "    Key=data_prefix,\n",
    "    Filename=os.path.join(data_dir, \"brain_mri\", \"disc1.tar.gz\")\n",
    ")\n",
    "with tarfile.open(os.path.join(data_dir, \"brain_mri\", \"disc1.tar.gz\")) as tar:\n",
    "    tar.extractall(os.path.join(data_dir, 'brain_mri'))"
   ]
  },
  {
   "attachments": {},
   "cell_type": "markdown",
   "metadata": {},
   "source": [
    "### Visualization\n",
    "\n",
    "Let's load a cross-sectional brain MRI into memory. Although organ tissue segmentation is inherently a three-dimensional task, we’ll approximate it by segmenting 2-D cross-sectional MRI slices. This is less complex and compute-intensive than volumetric segmentation and performs reasonably well.\n",
    "\n",
    "Let's look at such a slice:"
   ]
  },
  {
   "cell_type": "code",
   "execution_count": 478,
   "metadata": {},
   "outputs": [
    {
     "data": {
      "text/plain": [
       "<matplotlib.image.AxesImage at 0x7faf54737bd0>"
      ]
     },
     "execution_count": 478,
     "metadata": {},
     "output_type": "execute_result"
    },
    {
     "data": {
      "image/png": "iVBORw0KGgoAAAANSUhEUgAAAskAAAJlCAYAAAAo6294AAAABHNCSVQICAgIfAhkiAAAAAlwSFlzAAALEgAACxIB0t1+/AAAADl0RVh0U29mdHdhcmUAbWF0cGxvdGxpYiB2ZXJzaW9uIDIuMS4yLCBodHRwOi8vbWF0cGxvdGxpYi5vcmcvNQv5yAAAIABJREFUeJzsvWvMZtd5nvcsnSzLFA9zIGc4w6NESTYgWSqMFHZgI6hVIGmK2D+SNkUPSmtAP4q2aVGgVo0WKIqidYuiTfsnhWq3lZMATuoGsFEEKQw1AhwbVqVYtk4UDyKHnBNnhmdaPsre/cF5N699+70frvlmhvpI3defWd/3vXuvtddp73nvez/PWJalQgghhBBCCK/xtu90A0IIIYQQQjhs5CE5hBBCCCEEIQ/JIYQQQgghCHlIDiGEEEIIQchDcgghhBBCCEIekkMIIYQQQhDykBxCCCGEEIKQh+QQQvgOM8Y4M8b4+E2u478YY/zdm1lHCCG8lchDcgghhBBCCEIekkMI4ZAwxvgbY4x/Osb478cYL4wxnhxj/CX8/XNjjP9mjPH/jTFeGmP88hjjyNW//YUxxjk535kxxsfHGH+xqn6mqv7VMcbvjjF+5429shBCePORh+QQQjhc/PNV9UhVHauq/66qfn6MMfD3f6uq/p2quruqvl1V//PrnXBZln9cVf91Vf39ZVluWZblB294q0MI4S1GHpJDCOFw8dSyLP/rsix/UlWfqaqTVXUX/v53lmX56rIs36qq/7yq/pUxxtu/Ew0NIYS3MnlIDiGEw8Uzu8KyLL93tXgL/n4W5aeq6p316rfOIYQQbiB5SA4hhDcX96B8b1X9cVU9W1Xfqqr37P5w9dvl4/js8oa0LoQQ3iLkITmEEN5c/BtjjB8YY7ynqv7Lqvqlq9aMR6vq3WOMvzzGeGdV/WdV9T047lJV3T/GyL4fQggTZLMMIYQ3F3+nqv6PetWW8e6q+g+qqpZleamq/t2q+rmqOl+vfrPMaBf/59V/nxtj/NYb1dgQQnizMpYlClwIIbwZGGN8rqr+7rIsP/edbksIIbzVyTfJIYQQQgghCHlIDiGEEEIIQYjdIoQQQgghBOGmfZM8xviLY4xHxhiPjzE+dbPqCSGEEEII4UZzU75Jvhqf89Gq+hfr1berv1BV/9qyLF83n/+u/jr7He94x+bn7/3e713Lb3/72/f+/r3vfe/mmHe+851r+W1ve+3/Phxflnle/duf/MmfrOU/+IM/WMu/+7u/uznmj/7oj9byn/7pn+49F9lm1t1+jn9zbVZ4nXo9O3gtWs9B6iQcN5bZLj0fx+l7vue16Fw8XtvMn//4j//Yfo5wPHjMt7/97b2f6XBjq/3E69Y+eL3f6/ncuXQOuc+xzd11sk72DftW63Rz6F3vetfeOrtxcnRrpfvcjq6f3Xh2feuuuetbfo7r06277nyuTv08f55Z6/t+3uGuX/ca1x43n7o6Zz/j+uMg93N3nd0c4vXM7p1uPIiO50H25Zk6Z+8rPMbtnVHj37Q8uyzL8df70Dte7wMH5M9V1ePLsjxRVTXG+MWq+omq2vuQ/N0IN9o77rhj87ePfOQja/nWW29dyz/4gz+4ln/0R390c8ypU6fWMh++uJnxoVbr5Abw/PPPr+XHHntsLf/6r//65pgzZ86s5d///d/fWyfR/wywTvYHf8+ywutkP3GTe+mll+wx3AD5INndhHnu22+/fS3fdddrWYP5n5mqbb+fOHFiLT/00ENrmePxrW99a3P8c889t5avXLmylnltetP5vd/7vbV89uxrCdp4rj/8wz8sh/uPEq9Fx5nX/X3f931rmTcR/r57wOG53v3ud69l/iejquo973nP3jLbzL5Q2AfsW46BPixwHrNt99zzWo6PV155Ze+5qvz64BrQBzEewzIfzNlO/l7hGLKftG85Vlw3bFu37nkM/1PPPtM5yPYQXhuP0b7l8ewDt9b1Z14b28nf33bbbZvj2Z8c92effXYt6xcM7j+7vM7uP7Scg7xmHjP7IMh+4phxPen5eD2z9bPNOtd26Hxg37pzd//RYz2sn/2v65vznsdw7+SeovOpu2eFQ8VTMx+6WXaLU7VNnXru6u9WxhifHGN8cYzxxZvUhhBCCCGEEA7EzfomeZ+Wsvlv5bIsn66qT1d9d9ot+L93fgtZtf0W7ciRI2v56NGja5nfnFZtv+ng/3L5v2T+r1i/aeK3x/yWgN/U6P+YWSfPfRC7gvtmRb8Z6K5hB7+N6Noy8z9+fptUtR2PBx54YC3zW2GOk8LrcdfPb6Oqql5++eW9bXa2nCr/zSO/keK16TdV/IaQdDYCJy/zGF6LKgv81scdr8fccssta5nffOm47dD5xGO4Vp555pm1zG8EtQ0nT55cyx/+8IfXMr+V5rmqtuuL18b6+Q1a1XZOc6yd5aiz7HBs3TjrMU6p4ZjrN3K8NvfNI7+5rNqqM64/nM2pavstIK+N7dS54dYBz8W1pnsv91uOk+unKq9c8XPOzlbl7WXdZ5w1ieuOZf0mmfstP/fiiy+u5U5ZcBYwZxXs2uy+fdc62R7Otdk6Ca+fc7izY8WK8ebnZn2TfK6q7sHPp6vqwk2qK4QQQgghhBvKzXpI/kJVPTTGeGCM8a6q+utV9Ss3qa4QQgghhBBuKDfFbrEsy7fHGP9eVf0/VfX2qvrflmX52s2o680E5S8nE1dt5RrK+3fffffec1VtJSLKhO5tZcreVduXuygZUirWl2ScXaF7K9rhbAidFObePGb7Vabs3jjfV7++4Pj+979/LfMFy/vvv9+22VlhKFOyrC+vOIsH5b8LF7ZCzVe+8pW1/Oijj65lyt5OclXcm+zaf5QgKae6sdU5zJ9dpAg9hv1J2ZxryllPtJ2U0d3cqtr21cc//vG1/GM/9mNr+XOf+5w9ntfAc7H9ly9f3hzDlzRdtJQOJ/tyPLSdlKppN+AxzirQ1c+xOX58+3I566HNhePk2lLl5xotTDqHKMPzetzLip01iePUWdU4D53Fwr3MrPBcvGa1AThrDz/H+nXOcK65exn7rHsp00Ux6cbT/b6LHuOi13T7kOtrt251bF2bY714c3KzPMm1LMs/qqp/dLPOH0IIIYQQws0iaalDCCGEEEIQ8pAcQgghhBCCcNPsFuFVXNB2eqLoIa7y3kwX9L3Kh51x/qhz585tfqZ/jt4xemU1KcOMv9dlQes+N+tpdv7YLoQc/WPOI+b6vGo7VvTivfDCC2v58ccf3xxD/zc/x3BXbKd61OnbZNIY+uLUw3r+/Pm1TG8n/ZOdR24mzJgLs1blPZect5o4wiWX0XBohG1ziUU4Tuof5JxmnRxnnQNsD8O+cZzYt+rNZN8w/CPDCHL8qrZj6JKBuBBXVX4MXZ9X+SyQ7p2BLjkM29ZlDnVecBf2Tdc3r8H5UXUOuORBLHMMdT6wb7iPcq11SS5cpknSvZvh+kbX90wYQfaTvoPi7iU8F8eZ665qu6ZcFlGtg+1xWQa5HnSvcO9TdHV22RV3cH/Rfuae4uZgePOQb5JDCCGEEEIQ8pAcQgghhBCCELvFTYZSFqUollVKoxypVowdam/gOSjxuJA+KjlSPmIYI0pHnZTlwgvx9yoBsw0ue562k9fgyl02KrbHhRHidbIvqqqeeuq1dO+UUy9durSWVSp3fXjfffetZY6z9vPXvvZa9MQ777xzLXOefP3rX59qJyU/Jy1X+WyK7CftZ2cH6qwHhG1zUvVtt922OcbNdZd1Ua+TbXZSN0PwKV/96lfX8je/+c21zBB8mnGP0HLDemirqap6+OGH17JmANzR2YychMzr13nn1rHLstdl3HN2KIYk1Da4LHkuFFeVDzPGtdJZsFzGOa5P3ZNcJrpOtnf2Dxe+Uu11M+fS63RrhWW2X+1QLtygs+ywz7U9bo/WOeRCtbnMhnq8m3ddKEuX4ZPtd6EGq/oweOHNR75JDiGEEEIIQchDcgghhBBCCELsFjcBJwe6iBYq11Dm49vf3TEuIxTlTEpEmkmO8vYTTzyx9/f6Fq97k9yhUjdlLifldbKxexPeZa2q2kqj3Zv9OzQzIc/NLIXPPffcWmafVW3f8mbZRRG5cuXK5nhaPthOljW6BdvtbDEzUVAUJ9nqOTg/KT/yGLXYUCpVGX6HviHuMvPxzXy2RSNysM2URl0Eiaqqo0ePrmVaLBi5hOOhx7NOWido0/noRz+6OYbrlfWQ2ex3pIsk46KKuOgWuoac1M1+1rnOzHhuTnY2BNdm2lo0Ss/zzz+/93O0v7BOtlGP59+cvK9tcPuQs5Pp50gXcchFh3B7gtbJc7v9mtel9yiuVfaTi2JS5a/T2TD0eBddwtl6FGcjJF0/OytIF+kpHC7yTXIIIYQQQghCHpJDCCGEEEIQYre4AagMQymKEpNLVqBvAVOSp/x37Nixvb+v8tYDSr2sU2XnCxcurGUmGqG0q29168872B8ugkR3TBd1wQW+d0HnVa5zFgOXjEXrpw2AtgqWtU6O24kTJ9YyJUdGQNDoBayTciZl6y55hKPrZzdW3Xi6sXGSaSdTukQl+rY45Xr2DY9n32jyCq4JZxdReZ52KH6Olhu2U20D7GvaYhjF5NZbb90cQ+n/6aefXssueo3iJGAntes1sD/dntZFx2D9nM86zuxP9o2zUHUJbYjbq6q265P2DVp2OFfVgkWrFOG5tH4X3YjX2SVNcXRRG/g3rgmX+KfbE9y5nOWparuO1IK0o7NwuT2N81ETMbm+5XnVHufqd1aULqENx5mf6xLazFgXwxtHvkkOIYQQQghByENyCCGEEEIIQh6SQwghhBBCEOJJvgHMZgmid4teSHqQq7a+1ePHj69ll8VMf6YXjPXweM0kd+bMmbVMn6fLrqV18jqdf07bTD/hjPfr9f62g7409cM6D+ds9j7Xzi7bGT3n9L/RB85wcurl43xiucuu5bxwxIVHqtp65Oj5Y53qq2Mf0HPIce7ClPF4tp+/V38wr81lDuN1qmeRa40+f35O20n/OI+f8YFre+j75bsAX/7ylzfH0KPs/KAcD10b/JzzEet1Ol83cVn1tD2zfePCBbpMejqeLjydmw9VW5/6XXfdtZbpPeY4zc7bLvOavoeyg/syr382m2H3PoXLyuqOmX1PgfuDC7HZndv1X3fumQyz+jmXtbC7R7i+7TzJbt65d2CqtmtlNnxjeGPIN8khhBBCCCEIeUgOIYQQQghBiN3igFBS0Sw/hNLJbbfdtpZpg+Dvq7YhiTRk1Y4unBqlIFo5KOMzXFXV1mJBaZPXNmt9mLVOOCmK0lMXws1l3mLfdhIwj3chojq7Ba0TDOem4/nYY4+tZfatk3NVFuTPXbgj4sIQzmQs1Ha6OaC2EGd/YT/zXLNyMOnCEM6EQdRMfuxbrjVnmara2mRcPewbvU6ODS0NPNdTTz21Oeb973//3mNcaLQu/JfLwKi4YzhXOxsFj3FrWseDdhr+zYUpUxsD+5Zje999961l7g9V2+vk2uV84Jh3ey/XWhd60NnwuF8z/KbaCNy87+wOPMZZHNxnqvxe7sZW9zFeJ9cHj1EbCue6u8/yOrtwbmxzFzrQWbhYT2drcZkNibMvKbFefOfJN8khhBBCCCEIeUgOIYQQQghBiN3iGqC06CTsKm89oJREuUUlJr7JTvmts3W47FhsM6VM2iuq/qzsua9OlTZd5i4nm3eZx9zbzp3dQtuzr36VDJ1UyzLrVNmf/cFxY/tVSmNGLo4Bj+E4qzTLuaay644u0gRlT7bNjV+Vz4jlrl+PcXYJJw1rG1jmeKj8yHFzb793kQ0472mZYZ06B9nXlI1Z5jiptOvmF8va/5cuXVrLXYQQRxf5YofK4056Z3nWbuEsCjpvXXZJd7yuB2c34PGnTp3aHOP2BB7D/md0k6rtWN1xxx1rmf3ZWaN4DVxTrF9tBKzTWci6jJhdZJsdXZY/l3mT7dJ14yKssKzzyWVXdHtCd49k37h7h+IsR11WvM6KMdNO9i37rLOShJtHvkkOIYQQQghByENyCCGEEEIIQuwWr4OLYtHJjJRLKLPxrWrKgvq2NY+h/KbyNKHMdfLkybXM4PQsa3QLHs9ro5RFOVrb4yTYzoZwEMnPRaFwn1HJcUYCdvJhlU+AQjRRC2UyNzdosaBkq3VSgnbjVOXlxFm7BXFvhasthHXSesA+dFEKqrZ9w7XG36uE68bKRRbQMWebuSY6G4OLxMI2U9JXeZ9RCy5fvryWOzn4+eefX8vOstPtSS7hQhfFY0bG76KVOOsC299FM+giqbg63bg98sgje+uvqjp69Oje45999tm1zGgjundyrvGaaZtTuwX3BM5bjnOXwIQ/O/uNWgL4N1fmHNL9ze13PL7bn13CJc6hLiKH2xNctJiqbR+6vVf3eBcNx9ktuiRbDl1r7l7qkozM3AfDjSHfJIcQQgghhCDkITmEEEIIIQQhdgtBJSXKIu6N1E6WYnB6Z51Q2fr222/f+zm2ReUWSm7uDW/aJSj5Vm1lKZ6LsqBev5N3neSpn59J5qFyKn92SUP4mVnJ0Mla3VvlhP2nci7r5FhTjuXv1Zai0ty+32tkAvY15XVnXejkv1krjHv73EVI0fNy3NjPLmqFnpu4BAd6PNvgLA06Hi6BCCOU3HnnnWv5B37gBzbHf+1rX1vL586d29t+tVaxPS4Rg5NsO9xar9r2Lecn6+T1a6QJ95a/SzZUtV3T3C+5VlxfVPWJRnacPXt28zP3RbaTeyQj1Oi859pz1ofO5kNcRIsuSg/nOo/RvnWWqplxqtquHc4BlzxD17ebtzxG7RKcU+5+00Wa4vx0thLdQ1xEKWf/0X51dgueS9e3s/HR7tHZCDu7XLg+8k1yCCGEEEIIQh6SQwghhBBCEPKQHEIIIYQQghBPsqD+pC4zjoOeIvqbXLYxDYNEj5sL86W+V9bDzzHEFEMaqbfWebToder6gh4z+sjoMVRvJz8361l0WazoxeuyKTn/Hn2JLqud/o1jwHZqSD96zNlmN85dmzm27Cf18nFOOY9c57d3PuLO6+pCg9HP6sasyoeKc5n4qrbX5kJJudBwVdu+5XhyPqjfm+d2mSqJ9pm+D7CDY9hl6XN+1C4slfP/d772EydOrGW+W8F+6rKdcQ7yGLcGq/ycns18xvHl51zow6pt37gMoTpvXJ3u2o4fP745hvs14VrhutN5NtMfs7505ynWfnIZ+9y51JPs3q3owplxv3XvKXDe6Ti5faQL8ejO7e5lei6OOz/H8+o+xr5x9wjnT9afZ0LQhXnyTXIIIYQQQghCHpJDCCGEEEIQYreorYzUhZiakeWqttKkyqY7KKl0GdZmpHKt8+LFi3vLDHGldgvKWpT5KON0obCIC2+nfevCFXXjQQnXSUzsG5VzmQ3v5Zdf3nuuI0eOrGW9RmbbYh/ymNOnT2+OUfvFDheOTmVvjgf7g+Oh53JhnUgXGs2FeOrmPXGyLeeGzm2uNZY5hl1mQZ5PM5w5aKtwVhYNM8ZrYJlr6NFHH13LXHdVWwsU18d99923ltUyxHZyrrFtnM+dPYBw3qslgDYhd4yTiau2+5jLxqhZPDmGrIfHuAyWVT7EIvtM57qTwV3owS6zIPcX7usPPvhgOS5durSWec3PPPPM3joUl0VU11dnY9vB8exCyHWh4mbqd+dSG4GzUzn7jM57V6ezsHXn43xmW3Teu32M5e7+647hHO5CwHVWknDt5JvkEEIIIYQQhDwkhxBCCCGEIMRuUT6TUJWXqjtLgHsLlrIMpUy1W8xkztKIGJRlmMWLUh7lWJartrKns1uofOakUcqcfItbI3JQYmI/dVIez+HsL+wzjSRw5cqVtcx+Zpt5/dpPbA/lL46nSn5urhwksyH/1kXHmLEGzWZp4ufc2+LdMbPyH6/H2QVUpmR7KMlzbvG8ur5dhBLW38nOLiMmbTmcc1V+DvDtddqnqnxWOK4vXr/2k5ONu+gc7Dee22VO077lHsV2ct3QnqDtcW1ze2pV1d13372WP/jBD67lj33sY3uPr9pa0rh38vrZfrU+0E7DNvM+cPTo0c0xLqsn7SI8XvuC89tlkpvNysY9YdZC5eBa6daNq6fLsMrr4TW7e4fWw3uUy0Jatd1jWSfXFI/R/ZrXPWvZIS7qU2fRnLkXhoORb5JDCCGEEEIQ8pAcQgghhBCC8F1rt+hkQuJkIffGftVWFnFJFfgmuQaWdwHZ+Xt985yy5ZkzZ9Yy35CmZKvyHSVUJ9+phEs51UW0oAykMiWPd4kHVLJjGyhLUVZiPVqneyua19+9SU4ZnOXZaAL8HOvhtWgyE/aNa3+XZMNFweDxncxKXMIO/dlFhWE/axQPl0iCY6tvv7sEN5Sw2Z+61pzsyXpUsnRvtvN6WL+uNWe/YdQL3VM4hlwDbAuvjXaPKi9Pd5Fg3Hi6uaLrhuuYbePep8ewr9ifOld2aD8xisQHPvCBtXzPPffY9tPWwOt0CZ9oYavajgfPde+99+5tc9XWokGLx4svvriWnWxf1Uex2KHXOWNx6CwRLgKRs3Npu9x9xe1J+jfXtm4f5M/OxqB7CNvp7CPcn/S+6CJCuXWnP3dJnnZoJBrCueXsiWGefJMcQgghhBCCkIfkEEIIIYQQhDwkhxBCCCGEIHxXeZKd70d9UA7nt1K/nAv74kICaRgjF76Kv1dP0xNPPLGWL1y4sJafffbZtUzPYRdKi7Cezhfn+tP5hqu2YWycx06PmfEed9mUiPOosQ76q6u24avos+xCo7Fv6EtTD+i+z1T5+dllqnKZ6Fw4NIbAq9rOdXrZ2WfaLudTZD30drrr1+M7v7TLyMU6NfQg4fygz7AL8cR14PzJLOt8YFhBto2h4tQ7TQ8ir40eXh6jfcZx45zmMbpWeG4Xzq3z77uwhvTdcq+q2vYB5yrHhv2v2Szvv//+tcw99sknn9xbf5UPE8Z6+P6B7p38HPeHzpPMd0i4vnhuzhvdE1yWvW6/c95lt25nM/bNhJbr6jlIhjgXflTvizw3+6m757vr4Rzu7v8uDJ8LHVm1nd8s89ydj5qhD1k/7/9duMfgyTfJIYQQQgghCHlIDiGEEEIIQfiutVu4EFXKTNgZyiNV3m5BmfLkyZNrWbPnUBp1IbM0i9fZs2fXspPsKEt1YW8ceozLssdrphyr0iiPYfgrtkVtBOwbnpvSbic/8hh+jmNIOVpD7XEMKYG6bE76OZfJzZ2ryocR5LWp7O1CB3FsWKfaWrhW2Df8fWeF4TV0srHDyckqATu532URU8nRhfxyWTP1GBdej/NGx4JtoN2C80blWO4Rd91111pmP7MvVOqn/YPn5rpR6wPb6WRjzkGd967fz58/v5Y1I6YL8ch+4nykvaHKz09aLDSEm7MBsD+7OUyLB8f9zjvvXMtqLWI9XNMcJ35G562zMznbmP6N5dlQkM6uQWaz97nz6r3YtW3GOlI1F7qwyyTLvnWhWbVOHsPP8drUosF7Ia1NLgReF5aS887ZE6v+7H0m7CffJIcQQgghhCDkITmEEEIIIQThLW+3oDTmJOgu44+TpZzkqrg3yZ2MUrWVW1zWJWbSq9pKk2ybe4tXfz8bTYBQ9qTM6N5cpsVE/+bsEvomOWVHlyWvs2sQjgdlW5cxUeHf1EpCXOQP9jPHtssaNSN7K5T2WA/LnXXCzQ19k9xZF9zb57punGXFSZb6OZZ5bo6Nyt5cn5yflCw1+sxMm/l7tWMdO3ZsLfPtc14nf19V9ZWvfGUtc63Nvr1Pu4az9nTRLVh20SB0rXDeuIye3OuqtmuSmcNcVju1eFy8eHFvndwfNGIN+4bnY0QM7rdqfeB4UDbvIoe4Ne0sgboPuj1uNqvaTKQKXZ+uzW5/6KJbOBuD7kMuy5+LZKN7kotC4TKXVm3707W525Ocjc5Z3aq268Ddf7qsrITn5txWa1MXkSm8Rr5JDiGEEEIIQchDcgghhBBCCMJbzm6hkp/KL69H9wYvZSEX/LtqK3dQxj916tRapryiEhOPn01YQYmGspK7nk5ecbKtSoaUjdkHlDnZrhMnTmyOf/zxx9eye6ud56rayuVOkmf7NUoApVEGYKeEy75Red5JcexzleddEHmXKEbHzL2x7yJ1VHnZ01k/uiggLsGAypQuioez/Kjk6Gw+zkpTte1bF5mAfa6RZDgnWaYkr+PRJcjZ4eTkqm10CpdkQ6+T62CmTkaLqdquL2cP07ffXfQYZwnQfnKRL1ySDj0HI1rwXPyM2hAYuYJRNNjOBx54YHMM1yv3Me69rEfHhpGGaLdg/6k8zvHk8bw2lceJi/7S7eszSbO6c83Y8GajW3RJS9z5nFWtS3hFOAe6+7dL2sH6mQxGkxU5CxLLeoy7f7DMe5SuVWe/ccfrOWbH47uRfJMcQgghhBCCcOCH5DHGPWOMfzLGeHiM8bUxxt+8+vsjY4xfHWM8dvXfO17vXCGEEEIIIRwmrsdu8e2q+o+XZfmtMcZ7q+qfjTF+tar+RlV9dlmWnx1jfKqqPlVVP339TfV0b7fOSEyky1fPc9EuoYHBKd9QfqOcS9lf20y5hPVQouN5q7ayCo9Xu8AOldIoU7kg9l0Acycxve9979v7+yr/9jplZ5UpnQRM2Bcq53JsnCWgewuZUOLiPNH5MCNTuqQ13eec7F61vQYnwXKcu0QxKmm7Yzg/3VvynM8679lvLiFMF63EBfunNKrj6ZK7cG6ptKkWoB1uf9Dx5N9o66AEq9c5E8lkxgZS5ZMddbBv2DYXxUTb4GRwjk3Vdn3SlsJ1zHPRwla1tdO8/PLLa5njrPvGb//2b6/lp556ai0zUkZnhXGWPo6z9g2tFFxfbg5pUiO2ze0X+vsZK8RsYg933lnrhNvvuvuvm4Ndkg7222zyJ44n/+barHuKS8REtE7eZ3k+d226vnk9LiKWRnV55ZVX9tbT7R3fjRz4m+RlWS4uy/JbV8uvVNXDVXWqqn6iqj5z9WOfqaqfvN5GhhBCCCGE8EZyQ17cG2PcX1Ufq6rPV9Vdy7JcrHr1QXqMcac55pNV9ckbUX8IIYQQQgg3kut+SB5HhtzRAAAgAElEQVRj3FJV/1dV/YfLsrx8DfnaP11Vn756jrxOGUIIIYQQDg3X9ZA8xnhnvfqA/PeWZfmHV399aYxx8uq3yCer6rI/w3XVvZZd9h39nPNLdeGaeIwLNaPHuFAzPKbL2Of8pPQx0c9bVfXEE0+s5TNnzqxl+vK6THbOe0uv0+nTpzd/O378+Fp2YaF43kcffXRzPMNUXbhwYS3zOrtsSC5jHUPdqJePPj96C12IrM4v7vx76umin5L+VudF1HnqwpyxbZ0P2s07FzZP6+QxXcY99pvLPsd6On+wa4uuNYbpYj3027nfV23DbzkfdZflj/PJ+d3VwzzzRYKOh1sTLiNXlyXQZetS3yznJ+txIaq68Hwuu6buQ2wD9xfn3Va/uMvIyXXz3HPPbY45d+7cWmaWPe6ds15d1s/jdX3yb7xmXiezPuo+yP3f+XO7EG7unudCROrnZu6r+vuZzHxd37p7Psu63997771766enW+cQmbnfdGuN+wCP13nvxo1t6+4Rbn7yGO0bvg/AtnUhN78buZ7oFqOqfr6qHl6W5X/An36lqj5xtfyJqvrlgzcvhBBCCCGEN57r+Sb5z1fVv1lVXxlj7F4P/pmq+tmq+gdjjJ+qqqer6q9dXxNDCCGEEEJ4YznwQ/KyLP+0qpxu+OMHPe8sLnxXZ5eYCbPVHU9Zh/KZhlahrMGQRC6Ei8qc/BwlQ4YNor1Cf6aU5+RYvU4n8bCfT548uTmG9guXCY4ZsL761a9ujuffKP3MZAys2spclN1ZVgmf1gfW6TLpqfznJENnY6jy2d/YfhfyTNvjwhOpZEjLCdvG6+E1a50uDBDbovPWhUt0oZc0FJdbE2ybhp2jxYESprPFqPWBsivbQxuF1unmHTNQsi3PPvvs5nj+zc0hlXDZn2wn14qze+i5XSY8XWsuVBzr4XzUOeT2WB6jc4hWCo6Vs2to3/J62M+0QXR2C2ex4LV02S1ZP609Op6ub51UrhYZ157ZzGkucybbNZvd0rVLcfdpnqsLp0Y47xkOlRYd/RstKuwzXd+8f7vMfGynWmmcPY1jqHufC8fmrl/b7KwcHEO1z/AewXFn27gGO1vKW5lk3AshhBBCCEHIQ3IIIYQQQgjCDYmT/Ebh3rzt3vrsMuPs6LJZUUo5cuTIWqbFQuUWSrD8nMsM2Fkf+DlKkc8888zmGGexmJFuqnwGIma9YsbAqq20xfopa9FiwWxWVT7LEPtPx4Pt5OfYFspIKq/TYkEJ1EmrHa7PVNailMZ2UuJyWdy69jhpdt/PO1z2OpWQXX/MZH7T+l379XjKhM7uoWvNwbnB9cDMaVXbOUhc1io9xkmbHHPK+fo5zkFaPFQ2Zhs4hznvWKY1q2rbB7y2TnZ28rIbdx2zmcxd+hn2J20Rbu/qMnJyftPaxag6VduxcvI0+2Y2SyGvTdvpbHw8N9vFvV+Pd3aL2cydzhKguMg67jOzf2NbNEPdTJY/ovPJrVXa7hhFpKrq7rvvXsu857NtXXQqt244H3Ufou2L0am4BlymS4X9yWvWiBq8Bmcb41pRm1I3V95K5JvkEEIIIYQQhDwkhxBCCCGEILwl7BadrDQT3YKyg75tPRNEnzJp1Va6oKxDqbizgbg3lCmzqlzD87E9fPu76yeX2IIWC41uwb6hLPPwww+vZdotVALmm8eUtSiZqkTHa2M/O4mL1gs9Ny0OHE9el0pUlGNdNAeVwtxb4W5udpLlzBviVV4OdQlEVKZ09Wi0j4O0zZ2L4+ESY3DMq7aStHsTnVYglQg5vpwbtAzp+mZ7eM2UxFlWGwPbwM9x3nQSrrMTuUgd2ga3D2g7+TPbxj7romO4BAkuiU/Vtj9cIgeia437IttG2V3f0p+xKHTWERedgseobcBZ7+655561zP2RyZaqtv3Ese4iOLkEHu6au4QVvLaDRIqaTVLhLJIuQovev7lWef9i1Kn77rtvc4yzWLiIWrpuXDIrnkuTgdFiwQQo3/jGN9Yy17euGzcezmalf+M6otWLe5+OJxMxab+/lcg3ySGEEEIIIQh5SA4hhBBCCEHIQ3IIIYQQQgjCofYkqx9pJoSbMhPOqwttQ38R/Tkuc1rV1u9EfxOPn82MRO/S2bNn9/6+atsH9Ck6r5J6iOjxYkgceuSOHj26OYZhlX7jN35jLT/22GNrmf4/9TTTX0rfKK9F/aD0dXOseJ1daDTW6bKydWPDfnIec/VJOu+v87V1Y0NfW5eRy52785C64124wi4MEevk8S5EV9X22hg6kete16cLd+TOq55m9oHzJ6t/kj/znQPnB9WwVqyTftJu3nHesE72E9vFtalwv2J/qn+fexfDQp0/f34tOw9w1XZ8XSiqzvPPvznfsM5BlxGyCy94rV5dxb2b4LyhVdt9jfOb+y3njYbfIt06Jm5Nu3IXts69pzB7L3ZhSruMe/ycy7jH8G1VVd///d+/lh944IG1zHuR7gnEZWLt3olie7hWOeZ6X+I+wHHnunv66afXMj3MVdvnAe5dbFu3j3EdsZ95z9c28xhtz1uJfJMcQgghhBCCkIfkEEIIIYQQhENnt6AMoxIVpRcXjkaZCU/ThWOjdEKZkp9TuwVlSsoVlCcoF2k4N5cpipKbZmByMiX7rJP0eZ0MQfP+979/LdNGUlX1yCOPrOVvfvOba5nhlnjNndTtsi5Rrqry0julwU6OdWEEnUVD5yDrdxKV9i3/xnbyeNbZycFO0p+9TtdmlWx5nZQJOTZ6nTw35yPnKn/f1cl6eF7tG7bNZZ/rMnqxPW4MVULm9TD0oa7Jfe3XNs9mI3SZuxiuiXNV181MODXtmw9+8INr+Ud+5EfW8uOPP76Wf/M3f3Mt0w5W5UPFdePBz7mwlC5rpH7O7S+dJWCGLtTdbJ1uTdHywuukHU3Pp3uUa+e12i0UZ91z4f26fnKZM9Ve5/YEWgLf9773rWXO2aqq+++/fy0ze6yzPlbNWSy6kIou1B3DVeo93811Pkt0z0Zck6xndjw5Hm6enDp1anM85yotHtwTZ7JuHnbyTXIIIYQQQghCHpJDCCGEEEIQDo3dYvcVP2UEfZvSvcXbZfdyMvpsZiQnsbjsXtoeF4HBZT6r2r7pSumEkobaQijXOJmvs5Xwbd+HHnpoLfPamP2nquoLX/jC3nZSXmZZpVH+zM/R+sFylX8rmtfP/tPxZL/zby5yiUppHAOOLa+F0UW0HlfurA8ukgolsi4rnLNlUC7rZDFnLdLMZW48XCY97dsZ2bh7w5qRHti2LoOji8LBz+m8ZV/xrXJmxGSfsV1VW9sSx4D1aHZK9hXPR9mWbVZrFK+TthBaoxhZoarqh3/4h9fyRz/60bVMCxbn3ec+97nN8Y8++uha5j5C2Zt2kaqqZ555Zi1TQtYMgjvUlqIRGXZ0UStmssd1ESTcXOnWFMeQfcBjOJ8668RMWX9294guC6c7l4vK0mUZdPd5tQcwYx0z49FWwfmo0S3Yz9wrukgybI+LpuSiblRt54CL2qR2C5cV1EWC6fZBdy9z0cGqtn3A/aFbG7w301bKvUv7ZjYSy2Ei3ySHEEIIIYQg5CE5hBBCCCEE4VDYLd72trf9GcvCPtybw91X+O4tXBcYXSMwOHmbMtCDDz64Oeb06dNruXvbd4dKJ5RrKDO6t8W1HhcpgefSxAGUqfg3Jgb5tV/7tc0xn//85/fWSbmH7VIbgkvywPp1XriIFpSV+BlNVsC/sU6XaEXfwmbbeD28Tp1DPJ+za/A6VXJ0iQdY1nY6OdO92d9JcYT9pHIs+4MyvtoV9rWxykuYXDdqK+ExlP9cNARNysDEGJwrXXQLZwtxe43Oe56b18Ny91Y6x9pZXLSNnF/sT0qjap9hBAGWufd97GMfW8tXrlzZHM+fKSdTNv/Qhz60OeaJJ55Yy7RwXbhwYS13sjM5iHWAHCTJiIu6pPsQ5+FHPvKRtUwbAaMEaLIGt445b9SKcq22ktnEIK7c2T1c1ArOraptAhBn+aFdRa1N7APuSa5+/Rv700UG0rF1+wDXF6002jbe15599tm1zDXURcyhXYLn0j2e181jZvdB92zTWX7ejNEu8k1yCCGEEEIIQh6SQwghhBBCEA6F3aJqv+TVvRk5E+lCf55JxKA2BBfpwL2tve/nfW3uJHDKKizTLqESrkqlr1e/Ro2grYSJQWixoPVCz+fe0mefqSWAbVCLwg59C5jtpHTDOp0crn9zFgtnxanytgSOoUrlM5YbymU6B538Rw7y1nC3nlyEFpcUospHiZl5Q1zbwPFgf2j/8xgXbJ9t0cQ/PB8lUEatYMSFqu11un7v+pbXxrnBPlfZ2VmoeJ3OhlHlEwxxf1NJ/0tf+tJapqTNvYbXovsej3EJGjRqBZOgsEx7gksA09HZANx6n43aMHOP6erkXu6ShOg+5K6bn9N9kG1w+51r/75r2OHWvVoCOD+5DjlPaKOoqvrwhz+8lj/wgQ+sZSbZ4HzW+6CLpsN130WKcPs9r1mv00V04r1c72v82Vk5+JnuOcdF4ersErRbcE26vUrb5vaXtwL5JjmEEEIIIQQhD8khhBBCCCEIeUgOIYQQQghBODSe5H3ePvXdzPiQ9Rj6Y1zYG/qjOs8ivT78nHpInTfQebo0HAzDHdGLR79V5welj4ieJHq/GKauahuu6Xd+53fW8pNPPrmW1Z/F62YIG9ZJr636LBmux4UA1PA66v96PTp/sp57B69TP0PvtPN76dhwDvLc7D/2U9dmlxVO6+TPM6F6ZuF5dT6wb3g9sxnBeD7OZ/oKNYQQz+H2AefBrfKhzTg3tW9d2DQX3qjz6PHauIZ0H2Ib6G2kN5P9r2H36Dl0c/DixYubY37hF35hLTPbJsNFcj6x/VU+2yjDWum7CMwUyCxeDIdGz2SXYZV0YducD3c2+547psvk6rKvff3rX1/LLqRi1bZv3TrWvnDtnH2fwa0pHt+FpeRco3+dXmOGeavahsTj+nQ+cl2D7APe/7i+1Gs7+77TDg3Hyp85hpzD3TtFLLvQcAyPWOXvJbxHqV+bbXDvkLgQelV+3WgYPuKy+R1m8k1yCCGEEEIIQh6SQwghhBBCEA6d3WI2sxGZPcaF5KH0orK/kyEoC2oWMBdeh7+ntPnoo49ujqfFQa0YOw4SmoxyldoIHn/88bX81FNP7W2zStWUPdlPlH6cPaHKS4ZdGKEuhNiOLiMXx4PyEz9Hu4NKVC5UWydZupBCzmKi8p+b085qoPWwbXpud7w7hnXqNTtbiRvbg9ipurBWB9k7OAZuH9B5du7cubVMCZUSaBcS0FnAnPWiajvvXPgpZ1fRn1kPx1bDQl66dGktf/azn13LJ0+eXMvcB7VO2kL4t07CdRkUab3gMV22M2cJ0DXgxspZEvR4zkF3vFt3Vds9huE3Xai9qu1eznHvwoS6zJcu1J2uRxd6z2U71fsiLRYPPfTQWmbWRVp5qrZzgNfpMsFRztfPEbZT9xTXB1w3rEfDuXF+ss8YVpJro2q7d7gx5HnVbsH15ea9hlvkMXy2oYWLc5t7nf6NcB/t9ni25zBbL/JNcgghhBBCCEIekkMIIYQQQhAOhd1iWZZrzhg2+5a+y/5GSYLygL5t7eRMfk5lSsoybCflJ0onKjXweEoSLHeSPK+ZWat4zNNPP705nhYPts29oa7tYT1dfxIXGYDyl8pl7jo5Tu7tXP3ZSfX8zOw1U3ZWusxZOzqZk2Mw+ya++1snyRMXHaOL1jIjO3dt5rx3Gdq6OmeidXSfYXs4h1UCdhFvzp8/v5Yph3Z7m5uPKpVzj2E7GSmC/acSMv/m9ie1/zDyB+Vl2jBYv0bkcLYzriG1M1G65jF8Y95F1anqM8Y5ZuZtl4XTRZmZtUOx37iPdbYxZ7+ZzYg5Qxcpiu1hWzhOx44d2xx/4sSJtcy55SwV2mauFbdXqI2B0Lro1nqVzzDKczMLp0a34JzmOnTWSz2HezZhndpP7BtGquI4dc8MPJ+zBOocdPsI563OQfaHm+sHyR57M8k3ySGEEEIIIQh5SA4hhBBCCEE4FHYL0n3V7uQzF0C+O542AEoaGgCdn+PbuZTXO/nNRQNgPRp8mzIEZZkucYHrA0phlJv4FnXVVkJ1krRKoy5CCK/NSVd6Pko8vJYusQalVlofKMeqLOUSiHR2Bwev30VzqPKyrZOGu8QgnBvdMazHRQHpEgrMRKTorA+OTg53knaXNIV1zuwD2sYZCVrnEKVit465npgQqGq7DlwiBJ2nTGDCSA8cW1oVOisLZWOuL5XHeT1MxMC39BnpQ/cHN+/4OZW6GbXBzRWXLKHKR6Hokm+w3w+ScMNZtbqoLFzHnE/33XffWuaYM+JQ1XZ+0L7COjUykLsXsZ87GyOvwdkNuQ/rfOL9k3OYY9hZD918Yvt1Prl9zFkFqrZjSNsTx4NrQPcHrhXev2mDUJsQx9BFp2D7XWSkqu193iWS0vMRjoHuXQ5ni+miunA+dRbL7zT5JjmEEEIIIQQhD8khhBBCCCEIeUgOIYQQQghBOHSe5C5ElPMPdj4q+nvo46F3ir5C9TXSl3fq1Km1TO9c5/Vh/fTnuNB0ej5+zoVUqtp6p+iJYv1nzpxZyxcuXNgc7/ycLrOR1sPwPuxntlN9ea7OLnQTj6E30WXiU+8WvXScT/RJOl9h1XauuNBus9nrZkNU8ZpdqLzOj9tlyXPHu1A9ne94xhPceYBdSCLShfSbocvA6PzN3frmPuJCJ6k3lJmrXMgu7UuGlGM/MTtWNx9cNj+2U33Q3Pu437FOjifDSFZtx8Z59unTrPJr1/1e3yFRX/S+tui6u1avruLmkPOWarvp6b333nvXMu83uneePXt2b50cpy7jHsea5c6ry3nMengf4LXQg1y1DaVIvzKP0fdz+H4Jy7zm2fBhbjx13nMOca2wP+l9pqdc20bvMt8Z6DzJ7r7i5lbVdmx4nV12Sl4nr41lhp3TvZvHu71Lj3E+fV3HOw6DPznfJIcQQgghhCDkITmEEEIIIQThUNgtxhjT0vMOJ3F1dgvK8yxTqlAZgxIPZUbKLSr5ujBdlDEoMzJTV9VWlqHcQHlCpRNKVqdPn17LzKxHi0UnY7ix0Ox5lNMop86GrXESS5epyoWNcZ/R+cCx4ecoHbFvVPZ3topOKmd/UH5yVhxnNdDjO+vDTEi7LrSau57OJnSta1hxkvhs+C5n5ej2h5lsgNp/M+EWKcHqPOV1MsRSJ+9TBmcoKh7T1clxo1TONU3rSNW235lxz0nqlGartvuYm/cqOzODH/uTuD1Rj2GZe6+GonRjzTZ364k/u1CWuqadNYdjw3IX6o6SPsdQ28l7Bucdx4njrPcI7p2cN7Tasax2C9oy+Dd3X9Wfnb3O7U/6M+dAF06V88NZOThn2GdV2/VJaxXr1OcMF0bQhfLUOezuBTxG14qzVXBNunCV2s7ZTJcu3CLbyXk2G+r2ZpJvkkMIIYQQQhDykBxCCCGEEIJwKOwWDpWLnMTSvb3Pv1HedxYLlRwpBZHuLX3W6SQN2iD4pnLV9k1XF9FC5RpmMGI9zNRE6UiPd1IvJRqV/HidTiLq3mB1kSLYNpVuXNYljgevRd925+fcHHA2kCovMXVSOa/BvbHvolbo8e46FRchZSbjX5Ufz052dtLebJQAJ9NdawQLrafrpy6D4I6DSH6cW1ybVdt1yGujbN5dM9tDaZTStK5V7iknT55cy7Rmqb2BbWDfsE5axToJ2FlZ1DZGu8VMVJXOxsA5yL7pIguwPbPSLtvGOtl/GuGEe4zbU3gvosWlamt34L2k22+5DzDrIjO0sS9073QZYzmfaLfQjHu8HpehVdca20NbA+eas0dUbe+/vGadq65OjRCyg/2s53IRodh/uj65JtwYcG7zM107naVBcXbD7jrdM1B3/3Ztc+fqrGpvlPUi3ySHEEIIIYQg5CE5hBBCCCEE4dDZLTo5lnTJG4hLMkH4lb5KRB/60IfWMiNdUHpQSwalMCcPdFEKKCvxc5Rb1BbCz1ECZRQNJ5/qz7N1un6feVv89dqzo4sUQYmI49FFQ3BvzlLy694QdzafLnGAk9zcHNB52ll79tVR5ZNUuEgPXdQHMrs+Z6woXXQMt1Y6K0sX7cMd7xKIuDr0HK7+bn+idM65RqlYLQGUQN0b4tw3VGrnnuTWp1oXWA8lea47RkboLCKsk23r9m7O4ZlINvqzs9fpMc521UVAIDPrS+0WHA+OLSMjPPjgg2uZNoaqrcWB9ygmnemicPDaOG9cUiX92UXn4LWoJYBz2s0VtXg4WwWtE13kErduur2P53ARdziHuj2FfePsiYpbn5zPGsWDfc35yHZ21qQ77rhjLc8m1nJ9MJtYy91LuqRSs8mwbiT5JjmEEEIIIQQhD8khhBBCCCEIh8Zuca2JCNznVTqhREHpg7+n9MWA51XbXPJ8I9dJbFVb2ZRyJMuUdFQ6ocThkqFonYxocenSpbVMGaaTmNxb2ayTdpOqbR+6t8o7WYrSIPuGQfQ1UPtM8ggXQaJqKyVxnCjfsV1sS5VPcNBFinBSsWu/SkfOhtDBvnaydZd0ZcbGMNvO2TY7i0Undc+8ST1rx5qNiEH4ORd9R+vnOqLMybWqsrGTPfl7rhV9e56WMB5DeV/byTZcvHhxbz3uTX792cnzup5cZBnW4+RwxUmznd2Ce7x7s1/P6yIDsD81SQb3Fd5juCcx0ofKzrTsMInM3XffvZa1b3huttP9Xu9LtDXQfsPf896jyWVcdAm37vVv7Ge3VjqLiYtConV2lrAdnMN6X+Sc1mgbrk7uHS4xF4/RdcN+4r2U46TH8LmHfcvPORuH/jxjQdO/zdgtdQ5fb8Kqg5BvkkMIIYQQQhDykBxCCCGEEIKQh+QQQgghhBCEQ+NJ3ucf68I9OdS7Rb8Qy/QU0RPmMuxVzXttL1++vJaZDYm/pz+LHqIqn6GN10aPYNU2ax9D7dDr43yBWifpvFukCxWzQ7MC8Xzanh1dCDheDz1dGm7JHe/Cf3UeOXKQMIQufJdrY8ds9j0X+rDz4LrQQSyrZ/Fa6+9CTDlf26xXeDa8Hv2MsyHciPMMdiEe2Yfce+hT1bXivI2s33nsq7ZrYjZkF6+B/lj6F9mfOp483o2t7rf8me3h3sk5oN5tt3a6OXCt7wx04fVYP/tcQ4vybxw3Zl3kHND7msPto4rLUsd589xzz22O4c+8/9B7zHuZztmZvU/73O1xbmx0rfEY57fu9hR3zyddKMvZ9nf7xT50nJ1HmmtI1zfnKo+hJ1nfCSIubOzs3umysro6qubuJTc6HFy+SQ4hhBBCCEG47ofkMcbbxxhfGmP831d/fmCM8fkxxmNjjL8/xvBf64UQQgghhHAIuRF2i79ZVQ9X1S4mzX9bVf/jsiy/OMb4X6rqp6rqbx/kxN1X9U6OVSmMoXcoI7iwPy7El9bJz2mWICdLUUqjJUIlQ5cdirLWmTNnNscwlJPLjORCy+g1UNJg36jkx2NceLlOGuV1umxEKq/MyKldCB9nP+HvKYGrrDUTVqoLlUNZysl33fGzYdKc5MU6uyyBlEo5HhyzLhsS54YLh3YQO1VnRXGZFrssT26usZ+6OeRCkPH3+hn2hwuDpH3rwpG5/lSZlPuDk+S7UFhu3nYypxtPHqOWHc4b1u/WpO4PLgwf0d+zr5ycyz5XOxfDsbmQofy9noNrze1JatdgH7gMiHpfYmhLZmLlvYQh3Hi/qtres1iPCxM2m02RzGbUnLWq8XMuXKSutZnwl1wPais5iFXMhbpzFkm9d/C556677lrLvGYdzyeffHItu+chjrnOJ2clcRn/qubCiXb375mQn7qnzNoXHdf1TfIY43RV/eWq+rmrP4+q+heq6peufuQzVfWT11NHCCGEEEIIbzTXa7f4W1X1n1TV7r8BR6vqxWVZdl8VnKuqU/sOHGN8cozxxTHGF6/3ST+EEEIIIYQbyYHtFmOMf7mqLi/L8s/GGH9h9+s9H937BLwsy6er6tNVVW9/+9sX/L72la9+bu/f+BW+2iWcXYDSBcsqifB4fr1PuYgSVVXV+fPn1zIz3lC64JvLXUYufo42Dn373UkczrqhuMxhnWzsxoN908kjzorhxlb/5uRgZzep8jI65w2lUZVfncXBRYOo8lm4SCfLzURQ6M5HKc5JgbrWXDQA9+a24mwhnWQ6I8XpZ5zNx0UU6XDRPpwE37WTdar1wdkNOpsR1/GMXUP7lm3g3xiZQfdO9+UFZXuix3MdsP0sq+xO6ZptY2ZCt78p7NtuDrgMqbQk8Pe6D7Lfeb+47bbb1rLLJFi1HesTJ06sZUY70WglhPcV3os0AhL/xvsSx7OzAbp1zGtzsrke7+4dLoqL1jkb2ecgGdpcJlK3v8xaAmdxa9o9s+jPbr/nGqrazm/2J9edy5Ko53bZVrtnhm6uuN87+0z33DgbhclxPZ7kP19Vf2WM8S9V1bvrVU/y36qq28cY77j6bfLpqrpwXS0MIYQQQgjhDebAdotlWf7TZVlOL8tyf1X99ar6f5dl+der6p9U1V+9+rFPVNUvX3crQwghhBBCeAO5GclEfrqqfnGM8V9V1Zeq6uev5WD3tX3VXIIAlbqdpEwp7P7771/LH/jAB2zbeDzlN5W1KFFQbnBvAavExJ8pi7HOTvqg3EL5j3RvorPP2Batk7YEHu8SB6gsxXM7i4fKZZR0nYTprBdV2zHkuShtsi06NpStWY97O1j/RiuNa3Nnt3CRKlRi4jncG/OzUuRMcHutc4ZOSptN5MCfnS2kizwyY/Hooo3MRHXp5r2LAqLWKCcBOytIt3dSUqcUqRIu1wclWO6drF/ffnd9wHFX6wbbybF1yVC0n5zNprNbHD16dC07uwMjQDBSiNbpkld0a83ZNfj7hx9+eO/20HYAACAASURBVHMM7wW839CG1+1d7l7E/bKzOzr7z0HsYN3+wvbwfM4apXW6aBsuEVXXNmcZ0uPd3tHtj7yeGVtptz9w3XTJgtw9m3OQFg29l7pEI10EI2cp6+wSxPVHN56u/llbzA15SF6W5XNV9bmr5Seq6s/diPOGEEIIIYTwnSAZ90IIIYQQQhDykBxCCCGEEIJwMzzJB2KfZ6sL9+T8UepZpH+NHlqW6bdTXx49PayfPjD1qNH7Q5+e8x92mY1YjwvjVOX7wPlWZ7P8dRm1XAY/5x3vQmGxzZ1fzYW6cZnPNPwL/VbMlMVrZv+zXLXtN15nF2aG13Ct4eAU5/fq/L3Ov3eQcGxubPVn9y7ArG/Z+YvVbzaTtfBavdKvh/Pvu7LLcKewb7vxcD5Jt54Utyd1/n+e+9Sp10Lfs376ZKu26935sHXdusyf7Bvn263aXrfbK7r1xfsCPck8l2Y7pa/avUOi85bXwD3