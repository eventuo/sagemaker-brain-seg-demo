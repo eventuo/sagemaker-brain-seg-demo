{
 "cells": [
  {
   "cell_type": "markdown",
   "metadata": {},
   "source": [
    "# Brain MRI Segmentation\n",
    "***Predict Brain Tissue Segmentation Masks from Brain MRI Scans***\n",
    "\n",
    "## Contents\n",
    "\n",
    "1. [Background](#Background)\n",
    "1. [Exploratory Data Analyis & Pre-processing](#Exploratory-Data-Analysis-&-Pre-processing)\n",
    "1. [Train Models on Sagemaker](#Train-Models-on-SageMaker)\n",
    "1. [Inference Endpoints](#Inference-Endpoints)\n",
    "1. [Model Evaluation](#Model-Evaluation)\n",
    "1. [Extensions](#Extensions)\n",
    "\n",
    "## Background\n",
    "\n",
    "This notebook shows how to apply image segmentation algorithms to medical imaging use-cases in a simple, streamlined way using Amazon SageMaker. Specifically, we'll be using Apache MXNet to train a convolutional neural network for semantic segmentation on SageMaker using the \"Bring Your Own Script\" paradigm. Put simply, the goal of semantic segmentation is to make classifications on an image at the pixel-level, producing a cl