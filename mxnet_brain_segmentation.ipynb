{
 "cells": [
  {
   "cell_type": "markdown",
   "metadata": {},
   "source": [
    "# Brain MRI Segmentation\n",
    "***Predict Brain Tissue Segmentation Masks from Brain MRI Scans***\n",
    "\n",
    "## Contents\n",
    "\n",
    "1. [Background](#Background)\n",
    "1. [Exploratory Data Analyis & Pre-processing](#Exploratory-Data-Analysis-&-Pre-processing)\n",
    "1. [Train Models on Sagemaker](#Train-Models-on-SageMaker)\n",
    "1. [Inference Endpoints](#Inference-Endpoints)\n",
    "1. [Model Evaluation](#Model-Evaluation)\n",
    "1. [Extensions](#Extensions)\n",
    "\n",
    "## Background\n",
    "\n",
    "This notebook shows how to apply image segmentation algorithms to medical imaging use-cases in a simple, streamlined way using Amazon SageMaker. Specifically, we'll be using Apache MXNet to train a convolutional neural network for semantic segmentation on SageMaker using the \"Bring Your Own Script\" paradigm. Put simply, the goal of semantic segmentation is to make classifications on an image at the pixel-level, producing a classification \"mask.\" We will train two networks, U-Net and ENet. We'll show how to deploy these models to inference endpoints, both in the cloud on Amazon SageMaker and at the edge using AWS GreenGrass.\n",
    "\n",
    "### Use-case\n",
    "\n",
    "Medical imaging techniques allow medical professionals to see inside the human body, but more often than not the professional needs precise segmentation of the tissues within the image for analytical procedures and inferences. This is particular relevant in use-cases where volumetric and surface analysis are key to derive insights from the raw imaging, such as assessing the cardivascular health of a patient. Typically, this segmentation is done manually by medical professionals, and is very time consuming. Recently, convolutional neural networks have been shown to be highly performant at this task, and in this notebook we'll train two such networks to automatically segment brain tissue from MRI images.\n",
    "\n",
    "### CNN Architectures\n",
    "\n",
    "In this notebook, we apply two models to the task of brain tissue segmentation:\n",
    "* **U-Net**: Introduced in the paper [U-Net: Convolutional Networks for Biomedical Image Segmentation](https://arxiv.org/abs/1505.04597), this network was originally used for medical-imaging use-cases but has since proven to be reliable in generic segmentation domains. Due to it's architectural and conceptual simplicity, its often used as a baseline.\n",
    "* **ENet**: Introduced in the paper [ENet: A Deep Neural Network Architecture for Real-Time Semantic Segmentation](https://arxiv.org/abs/1606.02147), ENet is designed to be low-latency and to operate in environments with low compute capacity (e.g. edge devices). Compared to existing architectures, ENet optimizes for processing time over accuracy.\n",
    "\n",
    "### Dataset\n",
    "\n",
    "In this notebook, we'll be using Brain MRI data from the [Open Access Series of Imaging Studies (OASIS)](http://www.oasis-brains.org/). This project offers a wealth of neuroimaging datasets; we'll be looking at a small subset of cross-sectional brain MRIs.\n",
    "\n",
    "**Note:** You need to request access on the OASIS site to get the data. In this tutorial, I'll be using the <tt>disc1.tar.gz</tt> file from the [OASIS-1](http://www.oasis-brains.org/#data) data set.\n",
    "\n",
    "## Exploratory Data Analysis & Pre-processing\n",
    "\n",
    "In this section, we'll visualize the data and pre-process it for training a segmentation network. Once completed, we'll put the pre-processed data on S3 for SageMaker to use during model training.\n",
    "\n",
    "### Setup\n",
    "\n",
    "We'll start by importing the libraries necessary to perform the data visualization and pre-processing."
   ]
  },
  {
   "cell_type": "code",
   "execution_count": 311,
   "metadata": {
    "collapsed": true
   },
   "outputs": [],
   "source": [
    "import numpy as np\n",
    "from PIL import Image\n",
    "import boto3\n",
    "import os\n",
    "from glob import glob\n",
    "import imageio\n",
    "from sklearn.cross_validation import train_test_split\n",
    "import time\n",
    "import urllib\n",
    "import tarfile\n",
    "import shutil\n",
    "import json\n",
    "import matplotlib.pyplot as plt\n",
    "%matplotlib inline"
   ]
  },
  {
   "cell_type": "markdown",
   "metadata": {},
   "source": [
    "### Download & Extract\n",
    "Next, we're going to download the compressed data file locally and extract it to our data directory. I've put the <tt>disc1.tar.gx</tt> file in S3 and will download it from there.\n",
    "\n",
    "I've left the data directory up to you, because depending on your instance type you may or may not have the disk space to download and extract this data set. Some options:\n",
    "* Download data to the shared memory at <tt>/dev/shm</tt> if you have enough storage capacity there. Data saved here is not persistent, but we're only pre-processing and putting data on S3.\n",
    "* [Mount an Elastic File System to this instance.](https://aws.amazon.com/blogs/machine-learning/mount-an-efs-file-system-to-an-amazon-sagemaker-notebook-with-lifecycle-configurations/) This is useful if you want your data to persist in a file system accessible by your instance."
   ]
  },
  {
   "cell_type": "code",
   "execution_count": 239,
   "metadata": {
    "collapsed": true
   },
   "outputs": [],
   "source": [
    "data_bucket = '<YOUR-S3-BUCKET>'\n",
    "data_prefix = '<YOUR-S3-PREFIX>'\n",
    "data_dir = '<YOUR-DATA-DIR>'"
   ]
  },
  {
   "cell_type": "code",
   "execution_count": 400,
   "metadata": {
    "collapsed": true
   },
   "output